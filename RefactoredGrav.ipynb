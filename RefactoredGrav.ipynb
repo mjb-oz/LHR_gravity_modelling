{
 "cells": [
  {
   "cell_type": "markdown",
   "metadata": {},
   "source": [
    "# Imports"
   ]
  },
  {
   "cell_type": "code",
   "execution_count": 1,
   "metadata": {},
   "outputs": [
    {
     "name": "stderr",
     "output_type": "stream",
     "text": [
      "C:\\Users\\u19955\\AppData\\Local\\Continuum\\Anaconda3\\envs\\fatiando\\lib\\site-packages\\fatiando\\vis\\mpl.py:76: UserWarning: This module will be removed in v0.6. We recommend the use of matplotlib.pyplot module directly. Some of the fatiando specific functions will remain.\n",
      "  \"specific functions will remain.\")\n"
     ]
    }
   ],
   "source": [
    "%matplotlib inline\n",
    "import numpy as np\n",
    "import pandas as pd\n",
    "import csv\n",
    "import matplotlib\n",
    "import matplotlib.pyplot as plt\n",
    "from matplotlib.patches import Polygon\n",
    "from matplotlib.collections import PatchCollection\n",
    "from fatiando import utils, mesher, inversion\n",
    "from fatiando.gravmag import talwani"
   ]
  },
  {
   "cell_type": "markdown",
   "metadata": {},
   "source": [
    "# Inputs"
   ]
  },
  {
   "cell_type": "code",
   "execution_count": 2,
   "metadata": {
    "collapsed": true
   },
   "outputs": [],
   "source": [
    "# xz plane coordinate system, linear extent and depth of interest\n",
    "area = (-100000, 300000, 40000, -1000)\n",
    "\n",
    "# densities, each density corresponds to a polygon defined below, keep the order correct\n",
    "title1 = 'Bouguer 1'\n",
    "den1 = [{'density':0.0},   # crust\n",
    "      {'density':-400.0},  # sediment\n",
    "      {'density':-400.0},  # water\n",
    "      {'density':400.0}]   # mantle\n",
    "\n",
    "title2 = 'Bouguer 2'\n",
    "den2 = [{'density':0.0},\n",
    "      {'density':-600.0},\n",
    "      {'density':0.0},\n",
    "      {'density':400.0}]\n",
    "\n",
    "title3 = 'Bouguer BCsed'\n",
    "den3 = [{'density':0.0},\n",
    "      {'density':-600.0},\n",
    "      {'density':-600.0},\n",
    "      {'density':400.0}]\n",
    "\n",
    "title4 = 'Free Air'\n",
    "den4 = [{'density':0.0},\n",
    "      {'density':-600.0},\n",
    "      {'density':-1770.0},\n",
    "      {'density':400.0}]\n",
    "\n",
    "# title5 = 'Free Air2'\n",
    "# den5 = [{'density':0.0},\n",
    "#       {'density':-600.0},\n",
    "#       {'density':-1770.0},\n",
    "#       {'density':400.0}]\n",
    "# different polygons\n",
    "\n",
    "# title6 = 'Free Air No Canyon'\n",
    "# den6 = [{'density':0.0},\n",
    "#       {'density':-600.0},\n",
    "#       {'density':-1770.0},\n",
    "#       {'density':400.0}]\n",
    "# different polygons\n",
    "\n",
    "# crust polygon\n",
    "Cpoly = [(-1000000.0,0.0),\n",
    "        (0.0,0.0),\n",
    "        (30000.0,5000.0),\n",
    "        (70000.0,5000.0),\n",
    "        (100000.0,3000.0),\n",
    "        (200000.0,3000.0),\n",
    "        (210000.0,1000.0),\n",
    "        (240000.0,1000.0),\n",
    "        (250000.0,3000.0),\n",
    "        (1000000.0,3000.0),\n",
    "        (1000000.0,14000.0),\n",
    "        (100000.0,14000.0),\n",
    "        (70000.0,16000.0),\n",
    "        (30000.0,16000.0),\n",
    "        (0.0,35000.0),\n",
    "        (-1000000.0,35000.0)]\n",
    "\n",
    "\n",
    "# sediment polygon\n",
    "Spoly = [[0.0,0.0],\n",
    "        [50000.0,0.0],\n",
    "        [60000.0,2000.0],\n",
    "        [70000.0,0.0],\n",
    "        [100000.0,3000.0],\n",
    "        [70000.0,5000.0],\n",
    "        [30000.0,5000.0]]\n",
    "\n",
    "\n",
    "# water polygon\n",
    "Wpoly = [[50000.0,0.0],\n",
    "        [1000000.0,0.0],\n",
    "        [1000000.0,3000.0],\n",
    "        [250000.0,3000.0],\n",
    "        [240000.0,1000.0],\n",
    "        [210000.0,1000.0],\n",
    "        [200000.0,3000.0],\n",
    "        [100000.0,3000.0],\n",
    "        [70000.0,10.0],\n",
    "        [60000.0,2000.0]]\n",
    "\n",
    "\n",
    "# mantle polygon\n",
    "Mpoly = [[0.0,35000.0],\n",
    "        [30000.0,16000.0],\n",
    "        [70000.0,16000.0],\n",
    "        [100000.0,14000.0],\n",
    "        [1000000.0,14000.0],\n",
    "        [1000000.0,35000.0]]\n",
    "\n",
    "shapes = [Cpoly,Spoly,Wpoly,Mpoly]\n",
    "scenario_Bouguer = [title1, shapes, den1]\n",
    "\n",
    "import pickle\n",
    "export_Scenario = {'crust': Cpoly, 'sediment':Spoly, 'water':Wpoly, 'mantle':Mpoly}\n",
    "outputpath = 'FromDUG/ronspolys.pkl'\n",
    "f = open(outputpath, 'wb')\n",
    "pickle.dump(export_Scenario,f)\n",
    "f.close()\n",
    "\n",
    "# Cden = {'density':0.0}\n",
    "# Sden = {'density':-400.0}\n",
    "# Wden = {'density':-400.0}\n",
    "# Mden = {'density':400.0}"
   ]
  },
  {
   "cell_type": "markdown",
   "metadata": {},
   "source": [
    "# Defining Gravity Forward Model Calculation"
   ]
  },
  {
   "cell_type": "code",
   "execution_count": 3,
   "metadata": {
    "collapsed": true
   },
   "outputs": [],
   "source": [
    "def talwaniCalc(shapes,densities):\n",
    "    \"\"\"\n",
    "    performs the gravity forward model calculation according to\n",
    "    Talwani et al.'s method as implemented by Fatiando\n",
    "    \n",
    "    Takes an array of polygon coordinates (as an array of [X,Y] points)\n",
    "    and an array of dicts of the same length, each dict having the key\n",
    "    'density', and the value of the density for the corresponding polygon\n",
    "    (by index number) in kgm^-3\n",
    "    \"\"\"\n",
    "    if len(shapes) > len(densities):          # dummy checking\n",
    "        return (\"One of your polygons is missing a density - check your inputs\")\n",
    "    elif len(shapes) < len(densities):\n",
    "        return(\"You have more density values than polygons - check your inputs\")\n",
    "    PolyDens = []\n",
    "    for i in range(len(shapes)):\n",
    "        PolyDens.append(mesher.Polygon(shapes[i],densities[i]))\n",
    "\n",
    "    xp = np.arange(-100000.0, 300000.0, 5000.0) # define measurement points and compute gravity\n",
    "    zp = np.zeros_like(xp)\n",
    "    gz = talwani.gz(xp, zp, PolyDens)\n",
    "    model = pd.DataFrame({'xp': xp, 'gz':gz})\n",
    "    return model"
   ]
  },
  {
   "cell_type": "markdown",
   "metadata": {},
   "source": [
    "# Drawing the Charts"
   ]
  },
  {
   "cell_type": "code",
   "execution_count": 4,
   "metadata": {
    "collapsed": true
   },
   "outputs": [],
   "source": [
    "# scenario is an array with a title, array of polygon coordinates, and array of density dicts\n",
    "def drawAll(scenario):\n",
    "    plottitle = scenario[0]\n",
    "    polys = scenario[1]\n",
    "    densities = scenario[2]\n",
    "\n",
    "    NPpolys = []\n",
    "    for polygon in polys:\n",
    "        NPpolys.append(Polygon(np.array(polygon),True))\n",
    "    # generate patches\n",
    "    p = PatchCollection(NPpolys,cmap=matplotlib.cm.jet, alpha = 0.4)\n",
    "\n",
    "    # generate a range of random colours\n",
    "    # works for up to 99 different polygons\n",
    "    # colours could be manually fixed if desired, something to ponder\n",
    "    colours = np.empty(len(polys))\n",
    "    for i in range(len(polys)):\n",
    "        if i < 10:\n",
    "            colours[i] = int(colours[i] * 100)\n",
    "        else:\n",
    "            colours[i] = int((colours[i] * 10) + 5)\n",
    "    p.set_array(colours)\n",
    "\n",
    "    model = talwaniCalc(shapes, densities)\n",
    "\n",
    "    area = [-100000,300000,0,35000] \n",
    "    plt.subplot(211)\n",
    "    plt.title(plottitle)\n",
    "    plt.axis(area)\n",
    "    plt.gca().invert_yaxis()\n",
    "    plt.ylabel('Depth (m below sea level)')\n",
    "    plt.gca().add_collection(p)\n",
    "    # the locations for these labels need to be created manually\n",
    "    plt.text(-90000,10000, 'p =' + str(densities[0]['density']))\n",
    "    plt.text(0,5000, 'p =' + str(densities[1]['density']))\n",
    "    plt.text(100000,5000, 'p =' + str(densities[2]['density']))\n",
    "    plt.text(100000,25000, 'p =' + str(densities[3]['density']))\n",
    "\n",
    "    plt.subplot(212)\n",
    "    plt.axis([-100000,300000,0,400])\n",
    "    plt.plot(model['xp'], model['gz'], 'k')\n",
    "    plt.ylabel('Anomaly (mGal)')\n",
    "    plt.show()\n",
    "\n",
    "#     polys = [Polygon(np.array(Cpoly),True),\n",
    "#     Polygon(np.array(Spoly),True),\n",
    "#     Polygon(np.array(Wpoly),True),\n",
    "#     Polygon(np.array(Mpoly),True)]\n",
    "#     p.set_array(np.array([100,200,300,400]))"
   ]
  },
  {
   "cell_type": "markdown",
   "metadata": {},
   "source": [
    "# Running It"
   ]
  },
  {
   "cell_type": "code",
   "execution_count": 6,
   "metadata": {},
   "outputs": [
    {
     "data": {
      "image/png": "[encoded data removed]",
      "text/plain": [
       "<matplotlib.figure.Figure at 0xa28e390>"
      ]
     },
     "metadata": {},
     "output_type": "display_data"
    }
   ],
   "source": [
    "drawAll(scenario_Bouguer)"
   ]
  },
  {
   "cell_type": "code",
   "execution_count": null,
   "metadata": {
    "collapsed": true
   },
   "outputs": [],
   "source": []
  }
 ],
 "metadata": {
  "anaconda-cloud": {},
  "kernelspec": {
   "display_name": "Python [conda env:fatiando]",
   "language": "python",
   "name": "conda-env-fatiando-py"
  },
  "language_info": {
   "codemirror_mode": {
    "name": "ipython",
    "version": 2
   },
   "file_extension": ".py",
   "mimetype": "text/x-python",
   "name": "python",
   "nbconvert_exporter": "python",
   "pygments_lexer": "ipython2",
   "version": "2.7.13"
  }
 },
 "nbformat": 4,
 "nbformat_minor": 2
}
